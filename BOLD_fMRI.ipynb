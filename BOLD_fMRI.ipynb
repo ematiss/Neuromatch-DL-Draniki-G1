{
  "nbformat": 4,
  "nbformat_minor": 0,
  "metadata": {
    "colab": {
      "name": "BOLD fMRI.ipynb",
      "provenance": [],
      "collapsed_sections": [],
      "authorship_tag": "ABX9TyPxjLDzN4EwPwiLwWkp0z+k",
      "include_colab_link": true
    },
    "kernelspec": {
      "name": "python3",
      "display_name": "Python 3"
    },
    "language_info": {
      "name": "python"
    }
  },
  "cells": [
    {
      "cell_type": "markdown",
      "metadata": {
        "id": "view-in-github",
        "colab_type": "text"
      },
      "source": [
        "<a href=\"https://colab.research.google.com/github/ematiss/Neuromatch-DL-Draniki-G1/blob/main/BOLD_fMRI.ipynb\" target=\"_parent\"><img src=\"https://colab.research.google.com/assets/colab-badge.svg\" alt=\"Open In Colab\"/></a>"
      ]
    },
    {
      "cell_type": "code",
      "execution_count": 1,
      "metadata": {
        "colab": {
          "base_uri": "https://localhost:8080/"
        },
        "id": "Trvg2n85jrvk",
        "outputId": "fec1d1b5-7cf2-4dc7-c158-004edf328213"
      },
      "outputs": [
        {
          "output_type": "stream",
          "name": "stdout",
          "text": [
            "  Building wheel for torch-intermediate-layer-getter (setup.py) ... \u001b[?25l\u001b[?25hdone\n"
          ]
        }
      ],
      "source": [
        "# @title Install dependencies\n",
        "!pip install Pillow --quiet\n",
        "!pip install torch_intermediate_layer_getter --quiet"
      ]
    },
    {
      "cell_type": "code",
      "source": [
        "#  Imports\n",
        "import copy\n",
        "\n",
        "import numpy as np\n",
        "import matplotlib.pyplot as plt\n",
        "from PIL import Image\n",
        "\n",
        "import torch\n",
        "from torch import nn, optim\n",
        "from torch.utils.data import Dataset\n",
        "from torch_intermediate_layer_getter import IntermediateLayerGetter as MidGetter\n",
        "\n",
        "from torchvision import transforms\n",
        "import torchvision.models as models\n",
        "\n",
        "\n",
        "from scipy.spatial.distance import pdist\n",
        "from scipy.stats import pearsonr"
      ],
      "metadata": {
        "id": "zFC-UscjkDAO"
      },
      "execution_count": 2,
      "outputs": []
    }
  ]
}