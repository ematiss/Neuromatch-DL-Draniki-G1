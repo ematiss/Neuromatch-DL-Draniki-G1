{
  "nbformat": 4,
  "nbformat_minor": 0,
  "metadata": {
    "colab": {
      "name": "BOLD fMRI.ipynb",
      "provenance": [],
      "collapsed_sections": [],
      "toc_visible": true,
      "include_colab_link": true
    },
    "kernelspec": {
      "name": "python3",
      "display_name": "Python 3"
    },
    "language_info": {
      "name": "python"
    }
  },
  "cells": [
    {
      "cell_type": "markdown",
      "metadata": {
        "id": "view-in-github",
        "colab_type": "text"
      },
      "source": [
        "<a href=\"https://colab.research.google.com/github/ematiss/Neuromatch-DL-Draniki-G1/blob/main/BOLD_fMRI_ALT_copy.ipynb\" target=\"_parent\"><img src=\"https://colab.research.google.com/assets/colab-badge.svg\" alt=\"Open In Colab\"/></a>"
      ]
    },
    {
      "cell_type": "code",
      "execution_count": null,
      "metadata": {
        "colab": {
          "base_uri": "https://localhost:8080/"
        },
        "id": "Trvg2n85jrvk",
        "outputId": "fec1d1b5-7cf2-4dc7-c158-004edf328213"
      },
      "outputs": [
        {
          "output_type": "stream",
          "name": "stdout",
          "text": [
            "  Building wheel for torch-intermediate-layer-getter (setup.py) ... \u001b[?25l\u001b[?25hdone\n"
          ]
        }
      ],
      "source": [
        "# @title Install dependencies\n",
        "!pip install Pillow --quiet\n",
        "!pip install torch_intermediate_layer_getter --quiet"
      ]
    },
    {
      "cell_type": "code",
      "source": [
        "#  Imports\n",
        "import copy\n",
        "\n",
        "import numpy as np\n",
        "import matplotlib.pyplot as plt\n",
        "from PIL import Image\n",
        "\n",
        "import torch\n",
        "from torch import nn, optim\n",
        "from torch.utils.data import Dataset\n",
        "from torch_intermediate_layer_getter import IntermediateLayerGetter as MidGetter\n",
        "\n",
        "from torchvision import transforms\n",
        "import torchvision.models as models\n",
        "\n",
        "\n",
        "from scipy.spatial.distance import pdist\n",
        "from scipy.stats import pearsonr\n",
        "\n",
        "import requests"
      ],
      "metadata": {
        "id": "zFC-UscjkDAO"
      },
      "execution_count": null,
      "outputs": []
    },
    {
      "cell_type": "code",
      "source": [
        "fnames = [\"kay_labels.npy\", \"kay_labels_val.npy\", \"kay_images.npz\"]\n",
        "\n",
        "urls =['https://osf.io/r638s/download',\n",
        "       'https://osf.io/yqb3e/download',\n",
        "       'https://osf.io/ymnjv/download']\n",
        "\n",
        "for i, url in enumerate(urls):\n",
        "  r = requests.get(url, allow_redirects=True)\n",
        "  with open(fnames[i], 'wb') as fh:\n",
        "    fh.write(r.content)\n",
        "\n",
        "\n",
        "with np.load(fnames[2]) as dobj:\n",
        "  dat = dict(**dobj)\n",
        "labels = np.load('kay_labels.npy')\n",
        "val_labels = np.load('kay_labels_val.npy')"
      ],
      "metadata": {
        "id": "dy0BVRtMlIyN"
      },
      "execution_count": null,
      "outputs": []
    }
  ]
}